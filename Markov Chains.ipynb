{
 "cells": [
  {
   "cell_type": "code",
   "execution_count": 3,
   "metadata": {},
   "outputs": [],
   "source": [
    "import pandas as pd\n",
    "import numpy as np\n",
    "import wget"
   ]
  },
  {
   "cell_type": "code",
   "execution_count": null,
   "metadata": {},
   "outputs": [],
   "source": [
    "https://drive.google.com/file/d/14iu6uUUhDs3nlX5sQgR76LfeiLcNPfjU/view?usp=sharing"
   ]
  },
  {
   "cell_type": "code",
   "execution_count": 7,
   "metadata": {},
   "outputs": [
    {
     "data": {
      "text/plain": [
       "'att.csv'"
      ]
     },
     "execution_count": 7,
     "metadata": {},
     "output_type": "execute_result"
    }
   ],
   "source": [
    "url = 'https://drive.google.com/a/usc.edu/uc?authuser=1&id=14iu6uUUhDs3nlX5sQgR76LfeiLcNPfjU&export=download\"'\n",
    "wget.download(url, 'att.csv')"
   ]
  },
  {
   "cell_type": "code",
   "execution_count": 10,
   "metadata": {},
   "outputs": [],
   "source": [
    "df=pd.read_csv(\"att.csv\")"
   ]
  },
  {
   "cell_type": "code",
   "execution_count": null,
   "metadata": {},
   "outputs": [],
   "source": []
  },
  {
   "cell_type": "code",
   "execution_count": 11,
   "metadata": {},
   "outputs": [],
   "source": [
    "df = df.sort_values(['cookie', 'time'],\n",
    "                    ascending=[False, True])\n",
    "df['visit_order'] = df.groupby('cookie').cumcount() + 1"
   ]
  },
  {
   "cell_type": "code",
   "execution_count": 12,
   "metadata": {},
   "outputs": [],
   "source": [
    "\n",
    "df_paths = df.groupby('cookie')['channel'].aggregate(\n",
    "    lambda x: x.unique().tolist()).reset_index()\n",
    "    \n",
    "df_last_interaction = df.drop_duplicates('cookie', keep='last')[['cookie', 'conversion']]\n",
    "df_paths = pd.merge(df_paths, df_last_interaction, how='left', on='cookie')\n",
    "\n",
    "df_paths['path'] = np.where(\n",
    "    df_paths['conversion'] == 0,\n",
    "    ['Start'] + df_paths['channel'] + ['Null'],\n",
    "    ['Start'] + df_paths['channel'] + ['Conversion'])\n",
    "\n",
    "df_paths = df_paths[['cookie', 'path']]"
   ]
  },
  {
   "cell_type": "code",
   "execution_count": 14,
   "metadata": {},
   "outputs": [],
   "source": [
    "list_of_paths = df_paths['path']\n",
    "total_conversions = sum(path.count('Conversion') for path in df_paths['path'].tolist())\n",
    "base_conversion_rate = total_conversions / len(list_of_paths)"
   ]
  },
  {
   "cell_type": "code",
   "execution_count": 15,
   "metadata": {},
   "outputs": [
    {
     "data": {
      "text/plain": [
       "0.07346277508454528"
      ]
     },
     "execution_count": 15,
     "metadata": {},
     "output_type": "execute_result"
    }
   ],
   "source": [
    "base_conversion_rate"
   ]
  },
  {
   "cell_type": "code",
   "execution_count": 18,
   "metadata": {},
   "outputs": [],
   "source": [
    "\n",
    "def transition_states(list_of_paths):\n",
    "    list_of_unique_channels = set(x for element in list_of_paths for x in element)\n",
    "    transition_states = {x + '>' + y: 0 for x in list_of_unique_channels for y in list_of_unique_channels}\n",
    "\n",
    "    for possible_state in list_of_unique_channels:\n",
    "        if possible_state not in ['Conversion', 'Null']:\n",
    "            for user_path in list_of_paths:\n",
    "                if possible_state in user_path:\n",
    "                    indices = [i for i, s in enumerate(user_path) if possible_state in s]\n",
    "                    for col in indices:\n",
    "                        transition_states[user_path[col] + '>' + user_path[col + 1]] += 1\n",
    "\n",
    "    return transition_states\n",
    "\n",
    "\n",
    "trans_states = transition_states(list_of_paths)"
   ]
  },
  {
   "cell_type": "code",
   "execution_count": 21,
   "metadata": {},
   "outputs": [],
   "source": [
    "from collections import defaultdict"
   ]
  },
  {
   "cell_type": "code",
   "execution_count": null,
   "metadata": {},
   "outputs": [],
   "source": []
  },
  {
   "cell_type": "code",
   "execution_count": null,
   "metadata": {},
   "outputs": [],
   "source": []
  },
  {
   "cell_type": "code",
   "execution_count": 22,
   "metadata": {},
   "outputs": [],
   "source": [
    "def transition_prob(trans_dict):\n",
    "    list_of_unique_channels = set(x for element in list_of_paths for x in element)\n",
    "    trans_prob = defaultdict(dict)\n",
    "    for state in list_of_unique_channels:\n",
    "        if state not in ['Conversion', 'Null']:\n",
    "            counter = 0\n",
    "            index = [i for i, s in enumerate(trans_dict) if state + '>' in s]\n",
    "            for col in index:\n",
    "                if trans_dict[list(trans_dict)[col]] > 0:\n",
    "                    counter += trans_dict[list(trans_dict)[col]]\n",
    "            for col in index:\n",
    "                if trans_dict[list(trans_dict)[col]] > 0:\n",
    "                    state_prob = float((trans_dict[list(trans_dict)[col]])) / float(counter)\n",
    "                    trans_prob[list(trans_dict)[col]] = state_prob\n",
    "\n",
    "    return trans_prob\n",
    "\n",
    "\n",
    "trans_prob = transition_prob(trans_states)"
   ]
  },
  {
   "cell_type": "code",
   "execution_count": null,
   "metadata": {},
   "outputs": [],
   "source": [
    "\n",
    "def transition_matrix(list_of_paths, transition_probabilities):\n",
    "    trans_matrix = pd.DataFrame()\n",
    "    list_of_unique_channels = set(x for element in list_of_paths for x in element)\n",
    "\n",
    "    for channel in list_of_unique_channels:\n",
    "        trans_matrix[channel] = 0.00\n",
    "        trans_matrix.loc[channel] = 0.00\n",
    "        trans_matrix.loc[channel][channel] = 1.0 if channel in ['Conversion', 'Null'] else 0.0\n",
    "\n",
    "    for key, value in transition_probabilities.items():\n",
    "        origin, destination = key.split('>')\n",
    "        trans_matrix.at[origin, destination] = value\n",
    "\n",
    "    return trans_matrix\n",
    "\n",
    "\n",
    "trans_matrix = transition_matrix(list_of_paths, trans_prob)"
   ]
  },
  {
   "cell_type": "code",
   "execution_count": null,
   "metadata": {},
   "outputs": [],
   "source": []
  },
  {
   "cell_type": "code",
   "execution_count": null,
   "metadata": {},
   "outputs": [],
   "source": []
  },
  {
   "cell_type": "code",
   "execution_count": null,
   "metadata": {},
   "outputs": [],
   "source": []
  },
  {
   "cell_type": "code",
   "execution_count": null,
   "metadata": {},
   "outputs": [],
   "source": []
  },
  {
   "cell_type": "code",
   "execution_count": null,
   "metadata": {},
   "outputs": [],
   "source": []
  },
  {
   "cell_type": "code",
   "execution_count": null,
   "metadata": {},
   "outputs": [],
   "source": []
  },
  {
   "cell_type": "code",
   "execution_count": null,
   "metadata": {},
   "outputs": [],
   "source": []
  },
  {
   "cell_type": "code",
   "execution_count": null,
   "metadata": {},
   "outputs": [],
   "source": []
  },
  {
   "cell_type": "code",
   "execution_count": null,
   "metadata": {},
   "outputs": [],
   "source": []
  }
 ],
 "metadata": {
  "kernelspec": {
   "display_name": "Python 3",
   "language": "python",
   "name": "python3"
  },
  "language_info": {
   "codemirror_mode": {
    "name": "ipython",
    "version": 3
   },
   "file_extension": ".py",
   "mimetype": "text/x-python",
   "name": "python",
   "nbconvert_exporter": "python",
   "pygments_lexer": "ipython3",
   "version": "3.7.3"
  }
 },
 "nbformat": 4,
 "nbformat_minor": 2
}
